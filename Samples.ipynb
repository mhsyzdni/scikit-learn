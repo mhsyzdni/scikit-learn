{
 "cells": [
  {
   "cell_type": "markdown",
   "id": "36cc7558",
   "metadata": {},
   "source": [
    "# Handy Codes"
   ]
  },
  {
   "cell_type": "markdown",
   "id": "b48cecf8",
   "metadata": {},
   "source": [
    "## import libraries"
   ]
  },
  {
   "cell_type": "code",
   "execution_count": 3,
   "id": "6ed5edf1",
   "metadata": {},
   "outputs": [],
   "source": [
    "import numpy as np\n",
    "import pandas as pd\n",
    "import matplotlib.pyplot as plt"
   ]
  },
  {
   "cell_type": "markdown",
   "id": "903e37d3",
   "metadata": {},
   "source": [
    "## set constraints on DataFrames"
   ]
  },
  {
   "cell_type": "code",
   "execution_count": 4,
   "id": "3ff7cc69",
   "metadata": {},
   "outputs": [],
   "source": [
    "pd.set_option(\"display.max_colwidth\", 30)\n",
    "pd.set_option(\"display.max_rows\", 30)\n",
    "pd.set_option(\"display.max_columns\", 30)\n",
    "pd.set_option(\"display.precision\", 30)"
   ]
  },
  {
   "cell_type": "markdown",
   "id": "79c3d349",
   "metadata": {},
   "source": [
    "## commands"
   ]
  },
  {
   "cell_type": "code",
   "execution_count": 5,
   "id": "bef30929",
   "metadata": {},
   "outputs": [],
   "source": [
    "df = pd.read_csv('./data.csv')"
   ]
  },
  {
   "cell_type": "code",
   "execution_count": 6,
   "id": "d424bd7f",
   "metadata": {},
   "outputs": [
    {
     "data": {
      "text/html": [
       "<div>\n",
       "<style scoped>\n",
       "    .dataframe tbody tr th:only-of-type {\n",
       "        vertical-align: middle;\n",
       "    }\n",
       "\n",
       "    .dataframe tbody tr th {\n",
       "        vertical-align: top;\n",
       "    }\n",
       "\n",
       "    .dataframe thead th {\n",
       "        text-align: right;\n",
       "    }\n",
       "</style>\n",
       "<table border=\"1\" class=\"dataframe\">\n",
       "  <thead>\n",
       "    <tr style=\"text-align: right;\">\n",
       "      <th></th>\n",
       "      <th>5.1,3.5,1.4,0.2,Iris-setosa</th>\n",
       "    </tr>\n",
       "  </thead>\n",
       "  <tbody>\n",
       "    <tr>\n",
       "      <th>0</th>\n",
       "      <td>4.9,3.0,1.4,0.2,Iris-setosa</td>\n",
       "    </tr>\n",
       "    <tr>\n",
       "      <th>1</th>\n",
       "      <td>4.7,3.2,1.3,0.2,Iris-setosa</td>\n",
       "    </tr>\n",
       "    <tr>\n",
       "      <th>2</th>\n",
       "      <td>4.6,3.1,1.5,0.2,Iris-setosa</td>\n",
       "    </tr>\n",
       "    <tr>\n",
       "      <th>3</th>\n",
       "      <td>5.0,3.6,1.4,0.2,Iris-setosa</td>\n",
       "    </tr>\n",
       "    <tr>\n",
       "      <th>4</th>\n",
       "      <td>5.4,3.9,1.7,0.4,Iris-setosa</td>\n",
       "    </tr>\n",
       "    <tr>\n",
       "      <th>...</th>\n",
       "      <td>...</td>\n",
       "    </tr>\n",
       "    <tr>\n",
       "      <th>144</th>\n",
       "      <td>6.7,3.0,5.2,2.3,Iris-virginica</td>\n",
       "    </tr>\n",
       "    <tr>\n",
       "      <th>145</th>\n",
       "      <td>6.3,2.5,5.0,1.9,Iris-virginica</td>\n",
       "    </tr>\n",
       "    <tr>\n",
       "      <th>146</th>\n",
       "      <td>6.5,3.0,5.2,2.0,Iris-virginica</td>\n",
       "    </tr>\n",
       "    <tr>\n",
       "      <th>147</th>\n",
       "      <td>6.2,3.4,5.4,2.3,Iris-virginica</td>\n",
       "    </tr>\n",
       "    <tr>\n",
       "      <th>148</th>\n",
       "      <td>5.9,3.0,5.1,1.8,Iris-virginica</td>\n",
       "    </tr>\n",
       "  </tbody>\n",
       "</table>\n",
       "<p>149 rows × 1 columns</p>\n",
       "</div>"
      ],
      "text/plain": [
       "        5.1,3.5,1.4,0.2,Iris-setosa\n",
       "0       4.9,3.0,1.4,0.2,Iris-setosa\n",
       "1       4.7,3.2,1.3,0.2,Iris-setosa\n",
       "2       4.6,3.1,1.5,0.2,Iris-setosa\n",
       "3       5.0,3.6,1.4,0.2,Iris-setosa\n",
       "4       5.4,3.9,1.7,0.4,Iris-setosa\n",
       "..                              ...\n",
       "144  6.7,3.0,5.2,2.3,Iris-virginica\n",
       "145  6.3,2.5,5.0,1.9,Iris-virginica\n",
       "146  6.5,3.0,5.2,2.0,Iris-virginica\n",
       "147  6.2,3.4,5.4,2.3,Iris-virginica\n",
       "148  5.9,3.0,5.1,1.8,Iris-virginica\n",
       "\n",
       "[149 rows x 1 columns]"
      ]
     },
     "execution_count": 6,
     "metadata": {},
     "output_type": "execute_result"
    }
   ],
   "source": [
    "df"
   ]
  },
  {
   "cell_type": "code",
   "execution_count": null,
   "id": "4ff133d1",
   "metadata": {},
   "outputs": [],
   "source": [
    "x = np.empty((3,4), dtype=int)"
   ]
  },
  {
   "cell_type": "code",
   "execution_count": null,
   "id": "13d03191",
   "metadata": {},
   "outputs": [],
   "source": []
  },
  {
   "cell_type": "code",
   "execution_count": 5,
   "id": "912f2299",
   "metadata": {},
   "outputs": [
    {
     "data": {
      "text/plain": [
       "array([[0, 0, 0, 0],\n",
       "       [0, 0, 0, 0],\n",
       "       [0, 0, 0, 0]])"
      ]
     },
     "execution_count": 5,
     "metadata": {},
     "output_type": "execute_result"
    }
   ],
   "source": [
    "x"
   ]
  },
  {
   "cell_type": "code",
   "execution_count": 7,
   "id": "11fcd17c",
   "metadata": {},
   "outputs": [],
   "source": [
    "x = np.full((3,4),55)"
   ]
  },
  {
   "cell_type": "code",
   "execution_count": 8,
   "id": "d4ce01be",
   "metadata": {},
   "outputs": [
    {
     "data": {
      "text/plain": [
       "array([[55, 55, 55, 55],\n",
       "       [55, 55, 55, 55],\n",
       "       [55, 55, 55, 55]])"
      ]
     },
     "execution_count": 8,
     "metadata": {},
     "output_type": "execute_result"
    }
   ],
   "source": [
    "x"
   ]
  },
  {
   "cell_type": "code",
   "execution_count": 9,
   "id": "1607cd6c",
   "metadata": {},
   "outputs": [],
   "source": [
    "python_list1 = [1, 2, 3, 4]"
   ]
  },
  {
   "cell_type": "code",
   "execution_count": 10,
   "id": "71d4f273",
   "metadata": {},
   "outputs": [],
   "source": [
    "ndarray_1d = np.array(python_list1)"
   ]
  },
  {
   "cell_type": "code",
   "execution_count": 11,
   "id": "06974f77",
   "metadata": {},
   "outputs": [
    {
     "data": {
      "text/plain": [
       "array([1, 2, 3, 4])"
      ]
     },
     "execution_count": 11,
     "metadata": {},
     "output_type": "execute_result"
    }
   ],
   "source": [
    "ndarray_1d"
   ]
  },
  {
   "cell_type": "code",
   "execution_count": null,
   "id": "6567045c",
   "metadata": {},
   "outputs": [],
   "source": []
  }
 ],
 "metadata": {
  "kernelspec": {
   "display_name": "Python 3 (ipykernel)",
   "language": "python",
   "name": "python3"
  },
  "language_info": {
   "codemirror_mode": {
    "name": "ipython",
    "version": 3
   },
   "file_extension": ".py",
   "mimetype": "text/x-python",
   "name": "python",
   "nbconvert_exporter": "python",
   "pygments_lexer": "ipython3",
   "version": "3.9.12"
  }
 },
 "nbformat": 4,
 "nbformat_minor": 5
}
